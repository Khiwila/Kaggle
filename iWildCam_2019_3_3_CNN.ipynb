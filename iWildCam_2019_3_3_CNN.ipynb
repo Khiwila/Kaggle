{
 "cells": [
  {
   "cell_type": "code",
   "execution_count": 1,
   "metadata": {
    "_cell_guid": "b1076dfc-b9ad-4769-8c92-a6c4dae69d19",
    "_uuid": "8f2839f25d086af736a60e9eeb907d3b93b6e0e5"
   },
   "outputs": [
    {
     "name": "stdout",
     "output_type": "stream",
     "text": [
      "['reshape32x32', 'trains1', 'iwildcam-2019-fgvc6']\n"
     ]
    }
   ],
   "source": [
    "# This Python 3 environment comes with many helpful analytics libraries installed\n",
    "# It is defined by the kaggle/python docker image: https://github.com/kaggle/docker-python\n",
    "# For example, here's several helpful packages to load in \n",
    "\n",
    "import numpy as np # linear algebra\n",
    "import pandas as pd # data processing, CSV file I/O (e.g. pd.read_csv)\n",
    "\n",
    "# Input data files are available in the \"../input/\" directory.\n",
    "# For example, running this (by clicking run or pressing Shift+Enter) will list the files in the input directory\n",
    "\n",
    "import os\n",
    "print(os.listdir(\"../input\"))\n",
    "\n",
    "# Any results you write to the current directory are saved as output."
   ]
  },
  {
   "cell_type": "code",
   "execution_count": 2,
   "metadata": {},
   "outputs": [],
   "source": [
    "######WITHOUT RESHAPE 32X32"
   ]
  },
  {
   "cell_type": "code",
   "execution_count": 3,
   "metadata": {
    "_cell_guid": "79c7e3d0-c299-4dcb-8224-4455121ee9b0",
    "_uuid": "d629ff2d2480ee46fbb7e2d37f6b5fab8052498a"
   },
   "outputs": [
    {
     "name": "stdout",
     "output_type": "stream",
     "text": [
      "test.shape: (153730, 10)\n",
      "sample_submmission.shape: (153730, 2)\n"
     ]
    }
   ],
   "source": [
    "train= pd.read_csv(\"../input/iwildcam-2019-fgvc6/train.csv\")\n",
    "test= pd.read_csv(\"../input/iwildcam-2019-fgvc6/test.csv\")\n",
    "sample_submission= pd.read_csv(\"../input/iwildcam-2019-fgvc6/sample_submission.csv\")\n",
    "#print(\"train.shape:\", train.shape)\n",
    "print(\"test.shape:\", test.shape)\n",
    "print(\"sample_submmission.shape:\", sample_submission.shape)\n",
    "\n",
    "#train_images = '../input/train_images/*'\n",
    "#test_images = '../input/test_images/*'"
   ]
  },
  {
   "cell_type": "code",
   "execution_count": 4,
   "metadata": {},
   "outputs": [],
   "source": [
    "import cv2\n",
    "import glob\n",
    "import matplotlib.pyplot as plt\n",
    "import tqdm\n",
    "import tensorflow as tf\n",
    "from tensorflow.python.framework import ops\n",
    "import scipy\n",
    "from scipy import ndimage\n",
    "import math\n",
    "from sklearn.model_selection import train_test_split\n",
    "from sklearn.metrics import confusion_matrix, roc_auc_score\n",
    "from PIL import Image"
   ]
  },
  {
   "cell_type": "code",
   "execution_count": 5,
   "metadata": {},
   "outputs": [
    {
     "data": {
      "text/plain": [
       "(747, 1024, 3)"
      ]
     },
     "execution_count": 5,
     "metadata": {},
     "output_type": "execute_result"
    }
   ],
   "source": [
    "# Get ids and labels\n",
    "train_id = train['file_name']\n",
    "labels = train['category_id']\n",
    "test_id = sample_submission['Id']\n",
    "\n",
    "img = plt.imread('../input/iwildcam-2019-fgvc6/train_images/'+ train['file_name'][0])\n",
    "img.shape"
   ]
  },
  {
   "cell_type": "code",
   "execution_count": 6,
   "metadata": {},
   "outputs": [
    {
     "name": "stdout",
     "output_type": "stream",
     "text": [
      "x_test_arr shape: (153730, 32, 32, 3)\n",
      "153730 test samples\n"
     ]
    }
   ],
   "source": [
    "# The TEST data, load data:\n",
    "x_test_arr = np.load('../input/reshape32x32/X_test.npy')\n",
    "print('x_test_arr shape:', x_test_arr.shape)\n",
    "print(x_test_arr.shape[0], 'test samples')"
   ]
  },
  {
   "cell_type": "code",
   "execution_count": 7,
   "metadata": {},
   "outputs": [
    {
     "name": "stdout",
     "output_type": "stream",
     "text": [
      "x_test.shape: (153730, 32, 32, 3)\n"
     ]
    }
   ],
   "source": [
    "# Convert the TEST images to float and scale it to a range of 0 to 1\n",
    "x_test = x_test_arr.astype('float32')\n",
    "x_test /= 255.\n",
    "\n",
    "print(\"x_test.shape:\",x_test.shape)"
   ]
  },
  {
   "cell_type": "code",
   "execution_count": 8,
   "metadata": {},
   "outputs": [
    {
     "name": "stdout",
     "output_type": "stream",
     "text": [
      "x_trains1.shape: (96167, 32, 32, 3)\n",
      "y_trains1.shape: (96167, 23)\n"
     ]
    }
   ],
   "source": [
    "x_trains1 = np.load('../input/trains1/x_trains1.npy')\n",
    "y_trains1 = np.load('../input/trains1/y_trains1.npy')\n",
    "print(\"x_trains1.shape:\",x_trains1.shape)\n",
    "print(\"y_trains1.shape:\",y_trains1.shape)"
   ]
  },
  {
   "cell_type": "code",
   "execution_count": 9,
   "metadata": {},
   "outputs": [
    {
     "name": "stdout",
     "output_type": "stream",
     "text": [
      "x_train.shape: (91358, 32, 32, 3)\n",
      "y_train.shape: (91358, 23)\n",
      "x_dev.shape: (4809, 32, 32, 3)\n",
      "y_dev.shape: (4809, 23)\n",
      "GENERATE Testsets: \n",
      "----------------- \n",
      "x_test1.shape: (38432, 32, 32, 3)\n",
      "x_test2.shape: (38433, 32, 32, 3)\n",
      "x_test3.shape: (38432, 32, 32, 3)\n",
      "x_test4.shape: (38433, 32, 32, 3)\n"
     ]
    }
   ],
   "source": [
    "# split between train_set and dev_set \n",
    "x_train, x_dev, y_train, y_dev = train_test_split(x_trains1, y_trains1, test_size = 0.050, random_state = 32)\n",
    "\n",
    "print(\"x_train.shape:\",x_train.shape)\n",
    "print(\"y_train.shape:\",y_train.shape)\n",
    "print(\"x_dev.shape:\",x_dev.shape)\n",
    "print(\"y_dev.shape:\",y_dev.shape)\n",
    "\n",
    "print( \"GENERATE Testsets: \")\n",
    "print( \"----------------- \")\n",
    "\n",
    "# split de test_set in several test_sets\n",
    "x_testa, x_testb = train_test_split(x_test, test_size = 0.5)\n",
    "x_test1, x_test2 = train_test_split(x_testa, test_size = 0.5)\n",
    "x_test3, x_test4 = train_test_split(x_testb, test_size = 0.5)\n",
    "\n",
    "print(\"x_test1.shape:\",x_test1.shape)\n",
    "print(\"x_test2.shape:\",x_test2.shape)\n",
    "print(\"x_test3.shape:\",x_test3.shape)\n",
    "print(\"x_test4.shape:\",x_test4.shape)\n"
   ]
  },
  {
   "cell_type": "code",
   "execution_count": 10,
   "metadata": {},
   "outputs": [],
   "source": [
    "### CCN with Tensorflow"
   ]
  },
  {
   "cell_type": "code",
   "execution_count": 11,
   "metadata": {},
   "outputs": [],
   "source": [
    "def create_placeholders(n_H0, n_W0, n_C0, n_y):\n",
    "    \"\"\"\n",
    "    Creates the placeholders for the tensorflow session.\n",
    "    \n",
    "    Arguments:\n",
    "    n_H0 -- scalar, height of an input image\n",
    "    n_W0 -- scalar, width of an input image\n",
    "    n_C0 -- scalar, number of channels of the input\n",
    "    n_y -- scalar, number of classes\n",
    "        \n",
    "    Returns:\n",
    "    X -- placeholder for the data input, of shape [None, n_H0, n_W0, n_C0] and dtype \"float\"\n",
    "    Y -- placeholder for the input labels, of shape [None, n_y] and dtype \"float\"\n",
    "    \"\"\"\n",
    "    X = tf.placeholder(tf.float32, shape=(None, n_H0, n_W0, n_C0)) \n",
    "    Y = tf.placeholder(tf.float32, shape=(None, n_y))\n",
    "    \n",
    "    return X, Y\n",
    "\n",
    "def initialize_parameters():\n",
    "    \"\"\"\n",
    "    Initializes weight parameters to build a neural network with tensorflow. The shapes are:\n",
    "                        W : [fc, fc, Nc_1, Nc]\n",
    "    Returns:\n",
    "    parameters -- a dictionary of tensors containing W1 W2\n",
    "    \"\"\"\n",
    "    \n",
    "    tf.set_random_seed(1)                              # so that your \"random\" numbers match ours\n",
    "\n",
    "    W1 = tf.get_variable(\"W1\", [4, 4, 3, 32], initializer = tf.contrib.layers.xavier_initializer(seed = 0))\n",
    "    W2 = tf.get_variable(\"W2\", [2, 2, 32, 64], initializer = tf.contrib.layers.xavier_initializer(seed = 0))\n",
    "\n",
    "    parameters = {\"W1\": W1,\n",
    "                  \"W2\": W2}\n",
    "    \n",
    "    return parameters\n",
    "\n",
    "def forward_propagation(X, parameters):\n",
    "    \"\"\"\n",
    "    Implements the forward propagation for the model:\n",
    "    CONV2D -> RELU -> MAXPOOL -> CONV2D -> RELU -> MAXPOOL -> FLATTEN -> FULLYCONNECTED\n",
    "    \n",
    "    Returns:\n",
    "    Z3 -- the output of the last LINEAR unit\n",
    "    \"\"\" \n",
    "    # Retrieve the parameters from the dictionary \"parameters\" \n",
    "    W1 = parameters['W1']\n",
    "    W2 = parameters['W2']\n",
    "    \n",
    "    # CONV2D: stride of 1, padding 'SAME'\n",
    "    Z1 = tf.nn.conv2d(X,W1, strides = [1,1,1,1], padding = 'SAME')\n",
    "    # RELU\n",
    "    A1 = tf.nn.relu(Z1)\n",
    "    # MAXPOOL: window 8x8, sride 8, padding 'SAME'\n",
    "    P1 = tf.nn.max_pool(A1, ksize = [1,8,8,1], strides = [1,8,8,1], padding = 'SAME')\n",
    "    # CONV2D: filters W2, stride 1, padding 'SAME'\n",
    "    Z2 = tf.nn.conv2d(P1,W2, strides = [1,1,1,1], padding = 'SAME')\n",
    "    # RELU\n",
    "    A2 = tf.nn.relu(Z2)\n",
    "    # MAXPOOL: window 4x4, stride 4, padding 'SAME'\n",
    "    P2 = tf.nn.max_pool(A2, ksize = [1,4,4,1], strides = [1,4,4,1], padding = 'SAME')\n",
    "    # FLATTEN\n",
    "    P2 = tf.contrib.layers.flatten(P2)\n",
    "    # FULLY-CONNECTED without non-linear activation function (not not call softmax).\n",
    "    # 23 neurons in output layer. Hint: one of the arguments should be \"activation_fn=None\" \n",
    "    Z3 = tf.contrib.layers.fully_connected(P2, 23,activation_fn=None)\n",
    "    return Z3\n",
    "\n",
    "def compute_cost(Z3, Y):\n",
    "    \"\"\"\n",
    "    Computes the cost\n",
    "    \n",
    "    Returns:\n",
    "    cost - Tensor of the cost function\n",
    "    \"\"\"\n",
    "    cost = tf.reduce_mean(tf.losses.mean_squared_error(Y, Z3))\n",
    "    \n",
    "    return cost"
   ]
  },
  {
   "cell_type": "code",
   "execution_count": 12,
   "metadata": {},
   "outputs": [],
   "source": [
    "def random_mini_batches(X, Y, mini_batch_size = 64, seed = 0):\n",
    "    \"\"\"\n",
    "    Creates a list of random minibatches from (X, Y)\n",
    "    \n",
    "    Arguments:\n",
    "    X -- input data, of shape (input size, number of examples) (m, Hi, Wi, Ci)\n",
    "    Y -- true \"label\" vector (containing 0 if cat, 1 if non-cat), of shape (1, number of examples) (m, n_y)\n",
    "    mini_batch_size - size of the mini-batches, integer\n",
    "    seed -- this is only for the purpose of grading, so that you're \"random minibatches are the same as ours.\n",
    "    \n",
    "    Returns:\n",
    "    mini_batches -- list of synchronous (mini_batch_X, mini_batch_Y)\n",
    "    \"\"\"\n",
    "    \n",
    "    m = X.shape[0]                  # number of training examples\n",
    "    mini_batches = []\n",
    "    np.random.seed(seed)\n",
    "    \n",
    "    # Step 1: Shuffle (X, Y)\n",
    "    permutation = list(np.random.permutation(m))\n",
    "    shuffled_X = X[permutation,:,:,:]\n",
    "    shuffled_Y = Y[permutation,:]\n",
    "\n",
    "    # Step 2: Partition (shuffled_X, shuffled_Y). Minus the end case.\n",
    "    num_complete_minibatches = math.floor(m/mini_batch_size) # number of mini batches of size mini_batch_size in your partitionning\n",
    "    for k in range(0, num_complete_minibatches):\n",
    "        mini_batch_X = shuffled_X[k * mini_batch_size : k * mini_batch_size + mini_batch_size,:,:,:]\n",
    "        mini_batch_Y = shuffled_Y[k * mini_batch_size : k * mini_batch_size + mini_batch_size,:]\n",
    "        mini_batch = (mini_batch_X, mini_batch_Y)\n",
    "        mini_batches.append(mini_batch)\n",
    "    \n",
    "    # Handling the end case (last mini-batch < mini_batch_size)\n",
    "    if m % mini_batch_size != 0:\n",
    "        mini_batch_X = shuffled_X[num_complete_minibatches * mini_batch_size : m,:,:,:]\n",
    "        mini_batch_Y = shuffled_Y[num_complete_minibatches * mini_batch_size : m,:]\n",
    "        mini_batch = (mini_batch_X, mini_batch_Y)\n",
    "        mini_batches.append(mini_batch)\n",
    "    \n",
    "    return mini_batches"
   ]
  },
  {
   "cell_type": "code",
   "execution_count": 13,
   "metadata": {},
   "outputs": [],
   "source": [
    "def model(X_train, Y_train, X_test, Y_test, X_test_test ,X_test_test1, X_test_test2,X_test_test3,X_test_test4, learning_rate = 0.009,num_epochs = 20, minibatch_size = 64, print_cost = True):\n",
    "    \"\"\"\n",
    "    Implements a three-layer ConvNet in Tensorflow:\n",
    "    CONV2D -> RELU -> MAXPOOL -> CONV2D -> RELU -> MAXPOOL -> FLATTEN -> FULLYCONNECTED\n",
    "    \n",
    "    Arguments:\n",
    "    num_epochs -- number of epochs of the optimization loop\n",
    "    minibatch_size -- size of a minibatch\n",
    "    print_cost -- True to print the cost every 100 epochs\n",
    "    \n",
    "    Returns:\n",
    "    train_accuracy -- real number, accuracy on the train set (X_train)\n",
    "    test_accuracy -- real number, testing accuracy on the test set (X_test)\n",
    "    parameters -- parameters learnt by the model. They can then be used to predict.\n",
    "    \"\"\"\n",
    "    \n",
    "    ops.reset_default_graph()                         # to be able to rerun the model without overwriting tf variables\n",
    "    tf.set_random_seed(1)                             # to keep results consistent (tensorflow seed)\n",
    "    seed = 3                                          # to keep results consistent (numpy seed)\n",
    "    (m, n_H0, n_W0, n_C0) = X_train.shape             \n",
    "    n_y = Y_train.shape[1]                            \n",
    "    costs = []                                        # To keep track of the cost\n",
    "    \n",
    "    # Create Placeholders of the correct shape\n",
    "    X, Y = create_placeholders(n_H0, n_W0, n_C0, n_y)\n",
    "\n",
    "    # Inilitialize parameters \n",
    "    parameters = initialize_parameters()\n",
    "    \n",
    "    # Forward propagation: Build the forward propagation in the tensorflow graph\n",
    "    Z3 = forward_propagation(X, parameters)\n",
    "    \n",
    "    # Cost function: Add cost function to tensorflow graph\n",
    "    cost = compute_cost(Z3, Y)\n",
    "    \n",
    "    # Backpropagation: Define the tensorflow optimizer. Use an AdamOptimizer that minimizes the cost.\n",
    "    optimizer = tf.train.AdamOptimizer(learning_rate=learning_rate).minimize(cost)\n",
    "    \n",
    "    # Initialize all the variables globally\n",
    "    init = tf.global_variables_initializer()\n",
    "     \n",
    "    # Start the session to compute the tensorflow graph\n",
    "    with tf.Session() as sess:\n",
    "        \n",
    "        # Run the initialization\n",
    "        sess.run(init)\n",
    "        \n",
    "        # Do the training loop\n",
    "        for epoch in range(num_epochs):\n",
    "\n",
    "            minibatch_cost = 0.\n",
    "            num_minibatches = int(m / minibatch_size) # number of minibatches of size minibatch_size in the train set\n",
    "            seed = seed + 1\n",
    "            minibatches = random_mini_batches(X_train, Y_train, minibatch_size, seed)\n",
    "\n",
    "            for minibatch in minibatches:\n",
    "\n",
    "                # Select a minibatch\n",
    "                (minibatch_X, minibatch_Y) = minibatch\n",
    "                # IMPORTANT: The line that runs the graph on a minibatch.\n",
    "                # Run the session to execute the optimizer and the cost, the feedict should contain a minibatch for (X,Y).\n",
    "                _ , temp_cost = sess.run([optimizer,cost], feed_dict ={X:minibatch_X, Y:minibatch_Y})\n",
    "                 \n",
    "                minibatch_cost += temp_cost / num_minibatches\n",
    "                \n",
    "            # Print the cost every epoch\n",
    "            if print_cost == True and epoch % 5 == 0:\n",
    "                print (\"Cost after epoch %i: %f\" % (epoch, minibatch_cost))\n",
    "            if print_cost == True and epoch % 1 == 0:\n",
    "                costs.append(minibatch_cost)\n",
    "                                      \n",
    "        \n",
    "        # plot the cost\n",
    "        plt.plot(np.squeeze(costs))\n",
    "        plt.ylabel('cost')\n",
    "        plt.xlabel('iterations (per tens)')\n",
    "        plt.title(\"Learning rate =\" + str(learning_rate))\n",
    "        plt.show()\n",
    "\n",
    "        # Calculate the correct predictions\n",
    "        predict_op = tf.argmax(Z3,1)\n",
    "        correct_prediction = tf.equal(predict_op, tf.argmax(Y, 1))\n",
    "        \n",
    "        # Calculate accuracy on the test set\n",
    "        accuracy = tf.reduce_mean(tf.cast(correct_prediction, \"float\"))\n",
    "        \n",
    "        if X_train.shape[0]>30000:\n",
    "            train_accuracy = accuracy.eval({X: X_train[:25000], Y: Y_train[:25000]})\n",
    "            number_for_train_accuracy=25000\n",
    "        else:\n",
    "            train_accuracy = accuracy.eval({X: X_train, Y: Y_train})\n",
    "            number_for_train_accuracy=X_train.shape[0]\n",
    "        if X_test.shape[0] >25000:\n",
    "            test_accuracy = accuracy.eval({X: X_test[:25000], Y: Y_test[:25000]})\n",
    "            number_for_test_accuracy=25000\n",
    "        else:\n",
    "            test_accuracy = accuracy.eval({X: X_test, Y: Y_test})     \n",
    "            number_for_test_accuracy=X_test.shape[0]\n",
    "            \n",
    "        print(\"Train Accuracy:\", train_accuracy)\n",
    "        print(\"Dev Accuracy:\", test_accuracy)\n",
    "        \n",
    "            # Calculate Prediction in test_test set\n",
    "        test_results=[]\n",
    "        \n",
    "        prediction1=predict_op.eval({X: X_test_test1})\n",
    "        test_results.extend(prediction1) \n",
    "\n",
    "        prediction2=predict_op.eval({X: X_test_test2})\n",
    "        test_results.extend(prediction2)\n",
    "       \n",
    "        prediction3=predict_op.eval({X: X_test_test3})\n",
    "        test_results.extend(prediction3) \n",
    "       \n",
    "        prediction4=predict_op.eval({X: X_test_test4})\n",
    "        test_results.extend(prediction4)\n",
    "        \n",
    "        submission = pd.DataFrame({'Id':sample_submission[\"Id\"][:X_test_test.shape[0]],'Predicted':test_results})# test_results.reshape(-1).tolist()})\n",
    "        submission.to_csv(\"submission_got_it11.csv\", index=False)\n",
    "        print(\"Used in training set:\", x_train.shape[0],\"elements\")\n",
    "        print(\"Used in validation set:\", x_dev.shape[0],\"elements\")\n",
    "        print(\"Used in prediction set:\", len(test_results),\"elements\")\n",
    "        print(\"Used for train accuracy:\",number_for_train_accuracy, \"elements\")\n",
    "        print(\"Used for dev accuracy:\",number_for_test_accuracy, \"elements\")\n",
    "        print(submission.head())\n",
    "        print(\"Summary of predictions:\")\n",
    "        print(submission.Predicted.value_counts())\n",
    "\n",
    "        return train_accuracy, test_accuracy, parameters"
   ]
  },
  {
   "cell_type": "code",
   "execution_count": 14,
   "metadata": {},
   "outputs": [
    {
     "name": "stdout",
     "output_type": "stream",
     "text": [
      "\n",
      "WARNING: The TensorFlow contrib module will not be included in TensorFlow 2.0.\n",
      "For more information, please see:\n",
      "  * https://github.com/tensorflow/community/blob/master/rfcs/20180907-contrib-sunset.md\n",
      "  * https://github.com/tensorflow/addons\n",
      "If you depend on functionality not listed there, please file an issue.\n",
      "\n",
      "WARNING:tensorflow:From /opt/conda/lib/python3.6/site-packages/tensorflow/python/framework/op_def_library.py:263: colocate_with (from tensorflow.python.framework.ops) is deprecated and will be removed in a future version.\n",
      "Instructions for updating:\n",
      "Colocations handled automatically by placer.\n",
      "WARNING:tensorflow:From /opt/conda/lib/python3.6/site-packages/tensorflow/contrib/layers/python/layers/layers.py:1624: flatten (from tensorflow.python.layers.core) is deprecated and will be removed in a future version.\n",
      "Instructions for updating:\n",
      "Use keras.layers.flatten instead.\n",
      "WARNING:tensorflow:From /opt/conda/lib/python3.6/site-packages/tensorflow/python/ops/losses/losses_impl.py:667: to_float (from tensorflow.python.ops.math_ops) is deprecated and will be removed in a future version.\n",
      "Instructions for updating:\n",
      "Use tf.cast instead.\n",
      "Cost after epoch 0: 0.026723\n",
      "Cost after epoch 5: 0.021376\n",
      "Cost after epoch 10: 0.020471\n",
      "Cost after epoch 15: 0.020039\n",
      "Cost after epoch 20: 0.019766\n",
      "Cost after epoch 25: 0.019624\n",
      "Cost after epoch 30: 0.019416\n",
      "Cost after epoch 35: 0.019290\n",
      "Cost after epoch 40: 0.019150\n",
      "Cost after epoch 45: 0.019083\n",
      "Cost after epoch 50: 0.019009\n",
      "Cost after epoch 55: 0.018962\n",
      "Cost after epoch 60: 0.018919\n",
      "Cost after epoch 65: 0.018904\n",
      "Cost after epoch 70: 0.018905\n",
      "Cost after epoch 75: 0.018843\n",
      "Cost after epoch 80: 0.018782\n",
      "Cost after epoch 85: 0.018712\n",
      "Cost after epoch 90: 0.018685\n",
      "Cost after epoch 95: 0.018719\n",
      "Cost after epoch 100: 0.018640\n",
      "Cost after epoch 105: 0.018622\n",
      "Cost after epoch 110: 0.018581\n",
      "Cost after epoch 115: 0.018599\n",
      "Cost after epoch 120: 0.018562\n",
      "Cost after epoch 125: 0.018523\n"
     ]
    },
    {
     "data": {
      "image/png": "[encoded data removed]",
      "text/plain": [
       "<Figure size 432x288 with 1 Axes>"
      ]
     },
     "metadata": {},
     "output_type": "display_data"
    },
    {
     "name": "stdout",
     "output_type": "stream",
     "text": [
      "Train Accuracy: 0.70476\n",
      "Dev Accuracy: 0.6926596\n",
      "Used in training set: 91358 elements\n",
      "Used in validation set: 4809 elements\n",
      "Used in prediction set: 153730 elements\n",
      "Used for train accuracy: 25000 elements\n",
      "Used for dev accuracy: 4809 elements\n",
      "                                     Id  Predicted\n",
      "0  b005e5b2-2c0b-11e9-bcad-06f10d5896c4         19\n",
      "1  f2347cfe-2c11-11e9-bcad-06f10d5896c4          0\n",
      "2  27cf8d26-2c0e-11e9-bcad-06f10d5896c4          0\n",
      "3  f82f52c7-2c1d-11e9-bcad-06f10d5896c4         19\n",
      "4  e133f50d-2c1c-11e9-bcad-06f10d5896c4          0\n",
      "Summary of predictions:\n",
      "0     84849\n",
      "19    20264\n",
      "18    18727\n",
      "1      7974\n",
      "11     5038\n",
      "3      4994\n",
      "8      4915\n",
      "13     3139\n",
      "17     2855\n",
      "16      781\n",
      "4       156\n",
      "10       38\n",
      "Name: Predicted, dtype: int64\n"
     ]
    }
   ],
   "source": [
    "_, _, parameters = model(x_train, y_train, x_dev, y_dev, x_test, x_test1, x_test2, x_test3, x_test4, learning_rate = 0.0050,num_epochs = 130, minibatch_size = 64, print_cost = True)"
   ]
  },
  {
   "cell_type": "code",
   "execution_count": 15,
   "metadata": {},
   "outputs": [
    {
     "name": "stdout",
     "output_type": "stream",
     "text": [
      "['__output__.json', '__notebook__.ipynb', 'submission_got_it11.csv']\n"
     ]
    }
   ],
   "source": [
    "print(os.listdir(\"../working\"))"
   ]
  },
  {
   "cell_type": "code",
   "execution_count": 16,
   "metadata": {},
   "outputs": [],
   "source": []
  }
 ],
 "metadata": {
  "kernelspec": {
   "display_name": "Python 3",
   "language": "python",
   "name": "python3"
  },
  "language_info": {
   "codemirror_mode": {
    "name": "ipython",
    "version": 3
   },
   "file_extension": ".py",
   "mimetype": "text/x-python",
   "name": "python",
   "nbconvert_exporter": "python",
   "pygments_lexer": "ipython3",
   "version": "3.6.4"
  }
 },
 "nbformat": 4,
 "nbformat_minor": 1
}
