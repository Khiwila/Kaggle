{
 "cells": [
  {
   "cell_type": "code",
   "execution_count": 1,
   "metadata": {
    "_cell_guid": "b1076dfc-b9ad-4769-8c92-a6c4dae69d19",
    "_uuid": "8f2839f25d086af736a60e9eeb907d3b93b6e0e5"
   },
   "outputs": [
    {
     "name": "stdout",
     "output_type": "stream",
     "text": [
      "['iwildcam-2019-fgvc6', 'reshape32x32']\n"
     ]
    }
   ],
   "source": [
    "# This Python 3 environment comes with many helpful analytics libraries installed\n",
    "# It is defined by the kaggle/python docker image: https://github.com/kaggle/docker-python\n",
    "# For example, here's several helpful packages to load in \n",
    "\n",
    "import numpy as np # linear algebra\n",
    "import pandas as pd # data processing, CSV file I/O (e.g. pd.read_csv)\n",
    "\n",
    "# Input data files are available in the \"../input/\" directory.\n",
    "# For example, running this (by clicking run or pressing Shift+Enter) will list the files in the input directory\n",
    "\n",
    "import os\n",
    "print(os.listdir(\"../input\"))\n",
    "\n",
    "# Any results you write to the current directory are saved as output."
   ]
  },
  {
   "cell_type": "code",
   "execution_count": 2,
   "metadata": {},
   "outputs": [],
   "source": [
    "# KERNEL FOR IMPOVE TRAIN AND DEV SETS: REMOVE THE MOST OF ZEROS"
   ]
  },
  {
   "cell_type": "code",
   "execution_count": 3,
   "metadata": {
    "_cell_guid": "79c7e3d0-c299-4dcb-8224-4455121ee9b0",
    "_uuid": "d629ff2d2480ee46fbb7e2d37f6b5fab8052498a"
   },
   "outputs": [
    {
     "name": "stdout",
     "output_type": "stream",
     "text": [
      "train.shape: (196299, 11)\n",
      "test.shape: (153730, 10)\n",
      "sample_submmission.shape: (153730, 2)\n"
     ]
    }
   ],
   "source": [
    "train= pd.read_csv(\"../input/iwildcam-2019-fgvc6/train.csv\")\n",
    "test= pd.read_csv(\"../input/iwildcam-2019-fgvc6/test.csv\")\n",
    "sample_submission= pd.read_csv(\"../input/iwildcam-2019-fgvc6/sample_submission.csv\")\n",
    "print(\"train.shape:\", train.shape)\n",
    "print(\"test.shape:\", test.shape)\n",
    "print(\"sample_submmission.shape:\", sample_submission.shape)\n",
    "\n",
    "train_images = '../input/train_images/*'\n",
    "test_images = '../input/test_images/*'"
   ]
  },
  {
   "cell_type": "code",
   "execution_count": 4,
   "metadata": {},
   "outputs": [],
   "source": [
    "import cv2\n",
    "import glob\n",
    "import matplotlib.pyplot as plt\n",
    "import tqdm\n",
    "import tensorflow as tf\n",
    "from tensorflow.python.framework import ops\n",
    "import scipy\n",
    "from scipy import ndimage\n",
    "import math\n",
    "from sklearn.model_selection import train_test_split\n",
    "from sklearn.metrics import confusion_matrix, roc_auc_score\n",
    "from PIL import Image"
   ]
  },
  {
   "cell_type": "code",
   "execution_count": 5,
   "metadata": {},
   "outputs": [
    {
     "data": {
      "text/html": [
       "<div>\n",
       "<style scoped>\n",
       "    .dataframe tbody tr th:only-of-type {\n",
       "        vertical-align: middle;\n",
       "    }\n",
       "\n",
       "    .dataframe tbody tr th {\n",
       "        vertical-align: top;\n",
       "    }\n",
       "\n",
       "    .dataframe thead th {\n",
       "        text-align: right;\n",
       "    }\n",
       "</style>\n",
       "<table border=\"1\" class=\"dataframe\">\n",
       "  <thead>\n",
       "    <tr style=\"text-align: right;\">\n",
       "      <th></th>\n",
       "      <th>category_id</th>\n",
       "      <th>date_captured</th>\n",
       "      <th>file_name</th>\n",
       "      <th>frame_num</th>\n",
       "      <th>id</th>\n",
       "      <th>location</th>\n",
       "      <th>rights_holder</th>\n",
       "      <th>seq_id</th>\n",
       "      <th>seq_num_frames</th>\n",
       "      <th>width</th>\n",
       "      <th>height</th>\n",
       "    </tr>\n",
       "  </thead>\n",
       "  <tbody>\n",
       "    <tr>\n",
       "      <th>0</th>\n",
       "      <td>19</td>\n",
       "      <td>2011-05-13 23:43:18</td>\n",
       "      <td>5998cfa4-23d2-11e8-a6a3-ec086b02610b.jpg</td>\n",
       "      <td>1</td>\n",
       "      <td>5998cfa4-23d2-11e8-a6a3-ec086b02610b</td>\n",
       "      <td>33</td>\n",
       "      <td>Justin Brown</td>\n",
       "      <td>6f084ccc-5567-11e8-bc84-dca9047ef277</td>\n",
       "      <td>3</td>\n",
       "      <td>1024</td>\n",
       "      <td>747</td>\n",
       "    </tr>\n",
       "    <tr>\n",
       "      <th>1</th>\n",
       "      <td>19</td>\n",
       "      <td>2012-03-17 03:48:44</td>\n",
       "      <td>588a679f-23d2-11e8-a6a3-ec086b02610b.jpg</td>\n",
       "      <td>2</td>\n",
       "      <td>588a679f-23d2-11e8-a6a3-ec086b02610b</td>\n",
       "      <td>115</td>\n",
       "      <td>Justin Brown</td>\n",
       "      <td>6f12067d-5567-11e8-b3c0-dca9047ef277</td>\n",
       "      <td>3</td>\n",
       "      <td>1024</td>\n",
       "      <td>747</td>\n",
       "    </tr>\n",
       "    <tr>\n",
       "      <th>2</th>\n",
       "      <td>0</td>\n",
       "      <td>2014-05-11 11:56:46</td>\n",
       "      <td>59279ce3-23d2-11e8-a6a3-ec086b02610b.jpg</td>\n",
       "      <td>1</td>\n",
       "      <td>59279ce3-23d2-11e8-a6a3-ec086b02610b</td>\n",
       "      <td>96</td>\n",
       "      <td>Erin Boydston</td>\n",
       "      <td>6faa92d1-5567-11e8-b1ae-dca9047ef277</td>\n",
       "      <td>1</td>\n",
       "      <td>1024</td>\n",
       "      <td>747</td>\n",
       "    </tr>\n",
       "    <tr>\n",
       "      <th>3</th>\n",
       "      <td>0</td>\n",
       "      <td>2013-10-06 02:00:00</td>\n",
       "      <td>5a2af4ab-23d2-11e8-a6a3-ec086b02610b.jpg</td>\n",
       "      <td>1</td>\n",
       "      <td>5a2af4ab-23d2-11e8-a6a3-ec086b02610b</td>\n",
       "      <td>57</td>\n",
       "      <td>Erin Boydston</td>\n",
       "      <td>6f7d4702-5567-11e8-9e03-dca9047ef277</td>\n",
       "      <td>1</td>\n",
       "      <td>1024</td>\n",
       "      <td>747</td>\n",
       "    </tr>\n",
       "    <tr>\n",
       "      <th>4</th>\n",
       "      <td>0</td>\n",
       "      <td>2011-07-12 13:11:16</td>\n",
       "      <td>599fbd89-23d2-11e8-a6a3-ec086b02610b.jpg</td>\n",
       "      <td>3</td>\n",
       "      <td>599fbd89-23d2-11e8-a6a3-ec086b02610b</td>\n",
       "      <td>46</td>\n",
       "      <td>Justin Brown</td>\n",
       "      <td>6f1728a1-5567-11e8-9be7-dca9047ef277</td>\n",
       "      <td>3</td>\n",
       "      <td>1024</td>\n",
       "      <td>747</td>\n",
       "    </tr>\n",
       "  </tbody>\n",
       "</table>\n",
       "</div>"
      ],
      "text/plain": [
       "   category_id        date_captured   ...   width  height\n",
       "0           19  2011-05-13 23:43:18   ...    1024     747\n",
       "1           19  2012-03-17 03:48:44   ...    1024     747\n",
       "2            0  2014-05-11 11:56:46   ...    1024     747\n",
       "3            0  2013-10-06 02:00:00   ...    1024     747\n",
       "4            0  2011-07-12 13:11:16   ...    1024     747\n",
       "\n",
       "[5 rows x 11 columns]"
      ]
     },
     "execution_count": 5,
     "metadata": {},
     "output_type": "execute_result"
    }
   ],
   "source": [
    "train.head()"
   ]
  },
  {
   "cell_type": "code",
   "execution_count": 6,
   "metadata": {},
   "outputs": [
    {
     "data": {
      "text/plain": [
       "0     131457\n",
       "19     14106\n",
       "13      8623\n",
       "11      7209\n",
       "8       6938\n",
       "1       6102\n",
       "16      5975\n",
       "17      4759\n",
       "3       3398\n",
       "18      3035\n",
       "4       2210\n",
       "14      1361\n",
       "10      1093\n",
       "22        33\n",
       "Name: category_id, dtype: int64"
      ]
     },
     "execution_count": 6,
     "metadata": {},
     "output_type": "execute_result"
    },
    {
     "data": {
      "image/png": "[encoded data removed]",
      "text/plain": [
       "<Figure size 432x288 with 1 Axes>"
      ]
     },
     "metadata": {},
     "output_type": "display_data"
    }
   ],
   "source": [
    "train['category_id'].value_counts()[0:16].plot(kind='bar')\n",
    "train.category_id.value_counts()"
   ]
  },
  {
   "cell_type": "code",
   "execution_count": 7,
   "metadata": {},
   "outputs": [
    {
     "data": {
      "text/plain": [
       "<matplotlib.axes._subplots.AxesSubplot at 0x7f18a63f4c18>"
      ]
     },
     "execution_count": 7,
     "metadata": {},
     "output_type": "execute_result"
    },
    {
     "data": {
      "image/png": "[encoded data removed]",
      "text/plain": [
       "<Figure size 432x288 with 1 Axes>"
      ]
     },
     "metadata": {},
     "output_type": "display_data"
    }
   ],
   "source": [
    "train.category_id.hist()"
   ]
  },
  {
   "cell_type": "code",
   "execution_count": 8,
   "metadata": {},
   "outputs": [],
   "source": [
    "# Get ids and labels\n",
    "train_id = train['file_name']\n",
    "labels = train['category_id']\n",
    "test_id = sample_submission['Id']\n"
   ]
  },
  {
   "cell_type": "code",
   "execution_count": 9,
   "metadata": {},
   "outputs": [],
   "source": [
    "def convert_to_one_hot(Y, C):\n",
    "    Y = np.eye(C)[Y.reshape(-1)].T\n",
    "    return Y"
   ]
  },
  {
   "cell_type": "code",
   "execution_count": 10,
   "metadata": {},
   "outputs": [
    {
     "name": "stdout",
     "output_type": "stream",
     "text": [
      "(196299, 23)\n"
     ]
    }
   ],
   "source": [
    "# Generation of y_train with one_hot:\n",
    "etiquetas=train['category_id']\n",
    "y_trains = []\n",
    "for i in range(train.shape[0]):\n",
    "    y_train = convert_to_one_hot(etiquetas[i],23)\n",
    "    y_trains.append(y_train)\n",
    "    \n",
    "y_train=np.stack(y_trains)\n",
    "y_train=np.reshape(y_train, (y_train.shape[0],y_train.shape[1]))\n",
    "np.save('../working/y_train.npy', y_train)\n",
    "\n",
    "print(y_train.shape)"
   ]
  },
  {
   "cell_type": "code",
   "execution_count": 11,
   "metadata": {},
   "outputs": [
    {
     "name": "stdout",
     "output_type": "stream",
     "text": [
      "x_train_arr shape: (196299, 32, 32, 3)\n",
      "x_test_arr shape: (153730, 32, 32, 3)\n",
      "y_train_arr shape: (196299, 23)\n",
      "196299 train samples\n",
      "153730 test samples\n"
     ]
    }
   ],
   "source": [
    "# The data, load data:\n",
    "x_train_arr = np.load('../input/reshape32x32/X_train.npy')\n",
    "x_test_arr = np.load('../input/reshape32x32/X_test.npy')\n",
    "y_train_arr = np.load('../working/y_train.npy')\n",
    "\n",
    "print('x_train_arr shape:', x_train_arr.shape)\n",
    "print('x_test_arr shape:', x_test_arr.shape)\n",
    "print('y_train_arr shape:', y_train_arr.shape)\n",
    "\n",
    "print(x_train_arr.shape[0], 'train samples')\n",
    "print(x_test_arr.shape[0], 'test samples')"
   ]
  },
  {
   "cell_type": "code",
   "execution_count": 12,
   "metadata": {},
   "outputs": [
    {
     "name": "stdout",
     "output_type": "stream",
     "text": [
      "x_train.shape: (196299, 32, 32, 3)\n",
      "y_train.shape: (196299, 23)\n",
      "x_test.shape: (153730, 32, 32, 3)\n",
      "\n",
      "[0. 0. 0. 0. 0. 0. 0. 0. 0. 0. 0. 0. 0. 0. 0. 0. 0. 0. 0. 1. 0. 0. 0.]\n",
      "[0. 0. 0. 0. 0. 0. 0. 0. 0. 0. 0. 0. 0. 0. 0. 0. 0. 0. 0. 1. 0. 0. 0.]\n",
      "[1. 0. 0. 0. 0. 0. 0. 0. 0. 0. 0. 0. 0. 0. 0. 0. 0. 0. 0. 0. 0. 0. 0.]\n",
      "[1. 0. 0. 0. 0. 0. 0. 0. 0. 0. 0. 0. 0. 0. 0. 0. 0. 0. 0. 0. 0. 0. 0.]\n"
     ]
    }
   ],
   "source": [
    "# Convert the images to float and scale it to a range of 0 to 1\n",
    "x_train = x_train_arr.astype('float32')\n",
    "y_train = y_train_arr.astype('float32')\n",
    "x_test = x_test_arr.astype('float32')\n",
    "\n",
    "x_train /= 255.\n",
    "x_test /= 255.\n",
    "\n",
    "print(\"x_train.shape:\",x_train.shape)\n",
    "print(\"y_train.shape:\",y_train.shape)\n",
    "print(\"x_test.shape:\",x_test.shape)\n",
    "print()\n",
    "print(y_train[0])\n",
    "print(y_train[1])\n",
    "print(y_train[2])\n",
    "print(y_train[3])"
   ]
  },
  {
   "cell_type": "code",
   "execution_count": 13,
   "metadata": {},
   "outputs": [
    {
     "name": "stdout",
     "output_type": "stream",
     "text": [
      "New values for TRAIN and DEV datasets: \n",
      "-------------------------------------- \n",
      "TOTAL (X_train + X_dev shapes):  (65404, 32, 32, 3)\n",
      "TOTAL (Y_train + Y_dev shapes):  (65404, 23)\n"
     ]
    }
   ],
   "source": [
    "samples_zero = 195500 # 1000 #Numero de elementos a escanear para QUITAR etiquetas con label=0\n",
    "\n",
    "x_train_prueba = x_train \n",
    "y_train_prueba = y_train \n",
    "delet=[]\n",
    "\n",
    "for i in range (samples_zero):\n",
    "    test=y_train_prueba[i,0]\n",
    "    if test==1.0:\n",
    "        delet.append(i)          \n",
    "x_trains1 = np.delete(x_train_prueba, delet,axis=0)\n",
    "y_trains1 = np.delete(y_train_prueba, delet,axis=0)\n",
    "\n",
    "# RETURN the new values for Train and Dev datasets)\n",
    "print( \"New values for TRAIN and DEV datasets: \")\n",
    "print( \"-------------------------------------- \")\n",
    "print(\"TOTAL (X_train + X_dev shapes): \", x_trains1.shape)\n",
    "print(\"TOTAL (Y_train + Y_dev shapes): \", y_trains1.shape)     "
   ]
  },
  {
   "cell_type": "code",
   "execution_count": 14,
   "metadata": {},
   "outputs": [],
   "source": [
    "np.save('../working/x_trains1.npy', x_trains1)\n",
    "np.save('../working/y_trains1.npy', y_trains1)"
   ]
  },
  {
   "cell_type": "code",
   "execution_count": 15,
   "metadata": {},
   "outputs": [
    {
     "name": "stdout",
     "output_type": "stream",
     "text": [
      "['__output__.json', '__notebook__.ipynb', 'y_trains1.npy', 'y_train.npy', 'x_trains1.npy']\n"
     ]
    }
   ],
   "source": [
    "print(os.listdir(\"../working\"))"
   ]
  },
  {
   "cell_type": "code",
   "execution_count": 16,
   "metadata": {},
   "outputs": [],
   "source": []
  }
 ],
 "metadata": {
  "kernelspec": {
   "display_name": "Python 3",
   "language": "python",
   "name": "python3"
  },
  "language_info": {
   "codemirror_mode": {
    "name": "ipython",
    "version": 3
   },
   "file_extension": ".py",
   "mimetype": "text/x-python",
   "name": "python",
   "nbconvert_exporter": "python",
   "pygments_lexer": "ipython3",
   "version": "3.6.4"
  }
 },
 "nbformat": 4,
 "nbformat_minor": 1
}
